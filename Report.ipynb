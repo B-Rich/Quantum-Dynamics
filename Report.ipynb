{
 "cells": [
  {
   "cell_type": "markdown",
   "metadata": {
    "collapsed": true,
    "deletable": true,
    "editable": true
   },
   "source": [
    "# Project 3: Quantum Dynamics\n",
    "##    Eduardo Villaseñor - \n",
    "##    Eoin Horgan - 4582322\n",
    "\n"
   ]
  },
  {
   "cell_type": "markdown",
   "metadata": {},
   "source": [
    "# Introducction\n",
    "\n",
    "In this project we use numerical methods to simulate quantum systems by means of the time-dependent Schodinguer equation:\n",
    "$$-i \\frac{\\partial\\psi}{\\partial t} = H \\psi $$\n",
    "\n",
    "To use nuemerical methods to use this equation two steps are required. Discretizing the Hamiltonian into a matrix by using a discretization of the space into a mesh. And the handling the time evolution (time derivative in the Schoringuer equation) by use of the Hamiltonian.\n",
    "\n",
    "## Discretization of the Hamiltonian\n",
    "\n",
    "The Hamiltonian is a operator that contains all the imformation about the dynamics of a quantum system\n",
    "$$ H = - \\frac{\\hbar}{2m}\\nabla^2  + \\hat{V} $$\n",
    "\n",
    "In order to model the Hamiltonian into a matrix we need to introducre a second order finite difference discretization of the problem into an uniform mesh of width $h$, to obtain a matrix of dimensions $h^{dim} \\times h^{dim}$ where $dim$ equals to the dimension of the problem. Using the Taylor expansion each the second order derivatives in the\n",
    "Hamiltonian can be aproximated as follows\n",
    "\n",
    "$$ \\frac{u(x+h,y) + u(x-h,y) - 2u(x,y)}{h^2}   -\\frac{\\partial^2 u}{\\partial x^2} = 2 \\frac{h^2}{4!} \\frac{\\partial^4 u}{\\partial x^4} + \\cdots $$\n",
    "\n",
    "Where the error is of the order of $h$. Thus by we can see that by taking finer mesh we sacrifice computing time for precision in our model. Is important to note that the matrix obtained regarless of the dimension of our problem is a sparse matrix, thus by using *scipy.sparse* tools we can handle this matrices with much ease.\n",
    "\n",
    "\n",
    "## Time evolution\n",
    "The time evolution of the wave function is found using the Crank-Nicolson method:\n",
    "$$\\psi^{n+1} = \\frac{1-i\\Delta t H_D/2}{1+i\\Delta t H_D/2} \\psi^n $$\n",
    "\n",
    "Where the in this case the time is discretized into $\\Delta t$ steps. \n"
   ]
  },
  {
   "cell_type": "code",
   "execution_count": 10,
   "metadata": {
    "collapsed": true
   },
   "outputs": [],
   "source": [
    "import quantum_plots as qplots\n",
    "import numpy as np\n",
    "import simulation as sm\n",
    "from IPython.display import HTML"
   ]
  },
  {
   "cell_type": "markdown",
   "metadata": {
    "deletable": true,
    "editable": true
   },
   "source": [
    "## 1D Simulations:\n",
    "### Potential Well"
   ]
  },
  {
   "cell_type": "code",
   "execution_count": 11,
   "metadata": {
    "collapsed": false,
    "deletable": true,
    "editable": true
   },
   "outputs": [
    {
     "data": {
      "image/png": "[encoded data removed]",
      "text/plain": [
       "<matplotlib.figure.Figure at 0x7fcaeacf4908>"
      ]
     },
     "metadata": {},
     "output_type": "display_data"
    }
   ],
   "source": [
    "# Define the system parameters\n",
    "dim = 1\n",
    "numberPoints = 256\n",
    "dt = .001\n",
    "dirichletBC = False\n",
    "startPoint = 0\n",
    "domainLength = 15\n",
    "\n",
    "\n",
    "def potentialWell(x):\n",
    "    mag = 200\n",
    "    domain = [6, 10]\n",
    "    if domain[0] < x < domain[1]:\n",
    "        return mag\n",
    "    else:\n",
    "        return 0\n",
    "\n",
    "\n",
    "\n",
    "\n",
    "# Create the simulation for the system\n",
    "sim = sm.Simulation(dim=dim, potentialFunc=potentialFunc,\n",
    "                    dirichletBC=dirichletBC, numberPoints=numberPoints,\n",
    "                    startPoint=startPoint, domainLength=domainLength,\n",
    "                    dt=dt)\n",
    "\n",
    "# Create the initial wave function\n",
    "sim.setPsiPulse(pulse=\"plane\", energy=500, center=2)\n",
    "# plt.plot(x, sim.realPsi())\n",
    "# plt.show()\n",
    "\n",
    "\n",
    "ani = qplots.animation1D(sim, x, psi='real', V=np.vectorize(potentialWell))\n"
   ]
  },
  {
   "cell_type": "code",
   "execution_count": 15,
   "metadata": {
    "collapsed": false,
    "deletable": true,
    "editable": true
   },
   "outputs": [
    {
     "ename": "KeyError",
     "evalue": "'ffmpeg'",
     "output_type": "error",
     "traceback": [
      "\u001b[0;31m---------------------------------------------------------------------------\u001b[0m",
      "\u001b[0;31mKeyError\u001b[0m                                  Traceback (most recent call last)",
      "\u001b[0;32m<ipython-input-15-bd8d3e3f4331>\u001b[0m in \u001b[0;36m<module>\u001b[0;34m()\u001b[0m\n\u001b[0;32m----> 1\u001b[0;31m \u001b[0mHTML\u001b[0m\u001b[0;34m(\u001b[0m\u001b[0mani\u001b[0m\u001b[0;34m.\u001b[0m\u001b[0mto_html5_video\u001b[0m\u001b[0;34m(\u001b[0m\u001b[0;34m)\u001b[0m\u001b[0;34m)\u001b[0m\u001b[0;34m\u001b[0m\u001b[0m\n\u001b[0m",
      "\u001b[0;32m/usr/local/lib/python3.5/dist-packages/matplotlib/animation.py\u001b[0m in \u001b[0;36mto_html5_video\u001b[0;34m(self)\u001b[0m\n\u001b[1;32m   1153\u001b[0m                 \u001b[0;31m# We create a writer manually so that we can get the\u001b[0m\u001b[0;34m\u001b[0m\u001b[0;34m\u001b[0m\u001b[0m\n\u001b[1;32m   1154\u001b[0m                 \u001b[0;31m# appropriate size for the tag\u001b[0m\u001b[0;34m\u001b[0m\u001b[0;34m\u001b[0m\u001b[0m\n\u001b[0;32m-> 1155\u001b[0;31m                 \u001b[0mWriter\u001b[0m \u001b[0;34m=\u001b[0m \u001b[0mwriters\u001b[0m\u001b[0;34m[\u001b[0m\u001b[0mrcParams\u001b[0m\u001b[0;34m[\u001b[0m\u001b[0;34m'animation.writer'\u001b[0m\u001b[0;34m]\u001b[0m\u001b[0;34m]\u001b[0m\u001b[0;34m\u001b[0m\u001b[0m\n\u001b[0m\u001b[1;32m   1156\u001b[0m                 writer = Writer(codec='h264',\n\u001b[1;32m   1157\u001b[0m                                 \u001b[0mbitrate\u001b[0m\u001b[0;34m=\u001b[0m\u001b[0mrcParams\u001b[0m\u001b[0;34m[\u001b[0m\u001b[0;34m'animation.bitrate'\u001b[0m\u001b[0;34m]\u001b[0m\u001b[0;34m,\u001b[0m\u001b[0;34m\u001b[0m\u001b[0m\n",
      "\u001b[0;32m/usr/local/lib/python3.5/dist-packages/matplotlib/animation.py\u001b[0m in \u001b[0;36m__getitem__\u001b[0;34m(self, name)\u001b[0m\n\u001b[1;32m    128\u001b[0m         \u001b[0;32mif\u001b[0m \u001b[0;32mnot\u001b[0m \u001b[0mself\u001b[0m\u001b[0;34m.\u001b[0m\u001b[0mavail\u001b[0m\u001b[0;34m:\u001b[0m\u001b[0;34m\u001b[0m\u001b[0m\n\u001b[1;32m    129\u001b[0m             \u001b[0;32mraise\u001b[0m \u001b[0mRuntimeError\u001b[0m\u001b[0;34m(\u001b[0m\u001b[0;34m\"No MovieWriters available!\"\u001b[0m\u001b[0;34m)\u001b[0m\u001b[0;34m\u001b[0m\u001b[0m\n\u001b[0;32m--> 130\u001b[0;31m         \u001b[0;32mreturn\u001b[0m \u001b[0mself\u001b[0m\u001b[0;34m.\u001b[0m\u001b[0mavail\u001b[0m\u001b[0;34m[\u001b[0m\u001b[0mname\u001b[0m\u001b[0;34m]\u001b[0m\u001b[0;34m\u001b[0m\u001b[0m\n\u001b[0m\u001b[1;32m    131\u001b[0m \u001b[0;34m\u001b[0m\u001b[0m\n\u001b[1;32m    132\u001b[0m \u001b[0mwriters\u001b[0m \u001b[0;34m=\u001b[0m \u001b[0mMovieWriterRegistry\u001b[0m\u001b[0;34m(\u001b[0m\u001b[0;34m)\u001b[0m\u001b[0;34m\u001b[0m\u001b[0m\n",
      "\u001b[0;31mKeyError\u001b[0m: 'ffmpeg'"
     ]
    }
   ],
   "source": [
    "HTML(ani.to_html5_video())"
   ]
  },
  {
   "cell_type": "code",
   "execution_count": null,
   "metadata": {
    "collapsed": true,
    "deletable": true,
    "editable": true
   },
   "outputs": [],
   "source": []
  }
 ],
 "metadata": {
  "kernelspec": {
   "display_name": "Python 3",
   "language": "python",
   "name": "python3"
  },
  "language_info": {
   "codemirror_mode": {
    "name": "ipython",
    "version": 3
   },
   "file_extension": ".py",
   "mimetype": "text/x-python",
   "name": "python",
   "nbconvert_exporter": "python",
   "pygments_lexer": "ipython3",
   "version": "3.5.2"
  }
 },
 "nbformat": 4,
 "nbformat_minor": 2
}
