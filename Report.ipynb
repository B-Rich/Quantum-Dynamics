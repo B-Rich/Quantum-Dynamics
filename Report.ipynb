{
 "cells": [
  {
   "cell_type": "markdown",
   "metadata": {
    "collapsed": true
   },
   "source": [
    "# Project 3: Quantum Dynamics\n",
    "##    Eduardo Villaseñor - 4624548\n",
    "##    Eoin Horgan - 4582322\n",
    "\n"
   ]
  },
  {
   "cell_type": "markdown",
   "metadata": {},
   "source": [
    "# Introducction\n",
    "\n",
    "In this project we use numerical methods to simulate quantum systems by means of the time-dependent Schodinguer equation:\n",
    "$$-i \\frac{\\partial\\psi}{\\partial t} = H \\psi $$\n",
    "\n",
    "To use nuemerical methods to use this equation two steps are required. Discretizing the Hamiltonian into a matrix by using a discretization of the space into a mesh. And the handling the time evolution (time derivative in the Schoringuer equation) by use of the Hamiltonian.\n",
    "\n",
    "## Discretization of the Hamiltonian\n",
    "\n",
    "The Hamiltonian is a operator that contains all the imformation about the dynamics of a quantum system\n",
    "$$ H = - \\frac{\\hbar}{2m}\\nabla^2  + \\hat{V} $$\n",
    "\n",
    "In order to model the Hamiltonian into a matrix we need to introducre a second order finite difference discretization of the problem into an uniform mesh of width $h$, to obtain a matrix of dimensions $h^{dim} \\times h^{dim}$ where $dim$ equals to the dimension of the problem. Using the Taylor expansion each the second order derivatives in the\n",
    "Hamiltonian can be aproximated as follows\n",
    "\n",
    "$$ \\frac{u(x+h,y) + u(x-h,y) - 2u(x,y)}{h^2}   -\\frac{\\partial^2 u}{\\partial x^2} = 2 \\frac{h^2}{4!} \\frac{\\partial^4 u}{\\partial x^4} + \\cdots $$\n",
    "\n",
    "Where the error is of the order of $h$. Thus by we can see that by taking finer mesh we sacrifice computing time for precision in our model. Is important to note that the matrix obtained regarless of the dimension of our problem is a sparse matrix, thus by using *scipy.sparse* tools we can handle this matrices with much ease.\n",
    "\n",
    "\n",
    "## Time evolution\n",
    "The time evolution of the wave function is found using the Crank-Nicolson method:\n",
    "$$\\psi^{n+1} = \\frac{1-i\\Delta t H_D/2}{1+i\\Delta t H_D/2} \\psi^n $$\n",
    "\n",
    "Where the in this case the time is discretized into $\\Delta t$ steps. \n"
   ]
  },
  {
   "cell_type": "markdown",
   "metadata": {},
   "source": [
    "## Simulations\n",
    "\n",
    "The simulation relies on the files quantum_plots.py, simulation.py and matrix.py, which should be stored in a local directory so that it can access them. If you want to get a better idea of how the simulation works then please examine those files."
   ]
  },
  {
   "cell_type": "code",
   "execution_count": null,
   "metadata": {},
   "outputs": [],
   "source": [
    "import quantum_plots as qplots\n",
    "import numpy as np\n",
    "import simulation as sm\n",
    "from IPython.display import HTML\n",
    "%load_ext autoreload\n",
    "%autoreload 2"
   ]
  },
  {
   "cell_type": "markdown",
   "metadata": {},
   "source": [
    "### Potential Well"
   ]
  },
  {
   "cell_type": "code",
   "execution_count": null,
   "metadata": {
    "scrolled": true
   },
   "outputs": [],
   "source": [
    "# Define the system parameters and domain\n",
    "dim = 1\n",
    "numberPoints = 256\n",
    "dt = .001\n",
    "dirichletBC = False\n",
    "startPoint = 0\n",
    "domainLength = 15\n",
    "\n",
    "sign = -1\n",
    "if dirichletBC:\n",
    "    sign = 1\n",
    "\n",
    "\n",
    "def potentialWell(x):\n",
    "    '''A top hat potential function.'''\n",
    "    mag = 200\n",
    "    domain = [6, 10]\n",
    "    if domain[0] < x < domain[1]:\n",
    "        return mag\n",
    "    else:\n",
    "        return 0\n",
    "\n",
    "\n",
    "potentialFunc = np.vectorize(potentialWell)\n",
    "\n",
    "\n",
    "# Create the simulation for the system\n",
    "sim = sm.Simulation(dim=dim, potentialFunc=potentialFunc,\n",
    "                    dirichletBC=dirichletBC, numberPoints=numberPoints,\n",
    "                    startPoint=startPoint, domainLength=domainLength,\n",
    "                    dt=dt)\n",
    "\n",
    "# Create the initial wave function\n",
    "sim.setPsiPulse(pulse=\"plane\", energy=500, center=2)\n",
    "\n",
    "# System evolution and Animation\n",
    "ani = qplots.animation1D(sim, psi='real', V=potentialWell, time=400)\n",
    "HTML(ani.to_html5_video())"
   ]
  },
  {
   "cell_type": "markdown",
   "metadata": {},
   "source": [
    "The wave gives the behavour we expect, and at any time we can check to see if the probabilities sum to 1."
   ]
  },
  {
   "cell_type": "code",
   "execution_count": null,
   "metadata": {},
   "outputs": [],
   "source": [
    "P = np.sum(sim.normPsi())\n",
    "if abs(P-1) < .001:\n",
    "    print(True)\n",
    "else:\n",
    "    print(False)"
   ]
  },
  {
   "cell_type": "markdown",
   "metadata": {},
   "source": [
    "The is implemented as the .consistencyCheck() method. It is also possible to view the probability over time, to verify that it remains at 1."
   ]
  },
  {
   "cell_type": "code",
   "execution_count": null,
   "metadata": {},
   "outputs": [],
   "source": [
    "P = sim.probability(20)\n",
    "\n",
    "qplots.probabilityGraph(P)"
   ]
  },
  {
   "cell_type": "markdown",
   "metadata": {},
   "source": [
    "### Gaussian"
   ]
  },
  {
   "cell_type": "code",
   "execution_count": null,
   "metadata": {},
   "outputs": [],
   "source": [
    "# Define the system parameters and domain\n",
    "dim = 1\n",
    "numberPoints = 256\n",
    "dt = .001\n",
    "dirichletBC = False\n",
    "startPoint = 0\n",
    "domainLength = 15\n",
    "\n",
    "\n",
    "def gaussian(x):\n",
    "    '''A 1D Gaussian potential function'''\n",
    "    mag = 200\n",
    "    center = 4\n",
    "    std = 1\n",
    "    V = mag * np.exp(-(x-center)**2/(2*std**2))\n",
    "    return V\n",
    "\n",
    "\n",
    "# Create the simulation for the system\n",
    "sim = sm.Simulation(dim=dim, potentialFunc=gaussian,\n",
    "                    dirichletBC=dirichletBC, numberPoints=numberPoints,\n",
    "                    startPoint=startPoint, domainLength=domainLength,\n",
    "                    dt=dt)\n",
    "\n",
    "# Create the initial wave function\n",
    "sim.setPsiPulse(pulse=\"plane\", energy=500, center=2)\n",
    "\n",
    "# System evolution and Animation\n",
    "ani = qplots.animation1D(sim, psi='real', V=gaussian, time=400)\n",
    "HTML(ani.to_html5_video())"
   ]
  },
  {
   "cell_type": "code",
   "execution_count": null,
   "metadata": {},
   "outputs": [],
   "source": [
    "sim.consistencyCheck()"
   ]
  },
  {
   "cell_type": "markdown",
   "metadata": {
    "collapsed": true
   },
   "source": [
    "## 2D Simulations:\n",
    "### Double Slit interference"
   ]
  },
  {
   "cell_type": "code",
   "execution_count": null,
   "metadata": {},
   "outputs": [],
   "source": [
    "# Define the system parameters and domain\n",
    "dim = 2\n",
    "numberPoints = 100\n",
    "dt = .001\n",
    "dirichletBC = False\n",
    "startPoint = [0, 0]\n",
    "domainLength = 2\n",
    "\n",
    "\n",
    "def doubleSlit(x, y):\n",
    "    '''A potential wall with two identical apertures'''\n",
    "    sS = .3   # Slit separation\n",
    "    sW = .1   # Half slit width\n",
    "    spX = .5  # X coordinate start\n",
    "    spY = 1   # Y coordinate of center of slits\n",
    "    if x > spX and x < spX+.05 and (y < spY-sS/2. or y > spY+sS/2.):\n",
    "        return 50000\n",
    "    if x > spX and x < spX+.05 and (y > spY-sS/2.+sW and y < spY+sS/2.-sW):\n",
    "        return 50000\n",
    "    else:\n",
    "        return 0\n",
    "\n",
    "\n",
    "# Create the simulation for the system\n",
    "sim = sm.Simulation(dim=dim, potentialFunc=doubleSlit,\n",
    "                    dirichletBC=dirichletBC, numberPoints=numberPoints,\n",
    "                    startPoint=startPoint, domainLength=domainLength,\n",
    "                    dt=dt)\n",
    "\n",
    "# Create the initial wave function\n",
    "sim.setPsiPulse(pulse=\"plane\", energy=500, center=.1, width=.1)\n",
    "\n",
    "# System evolution and Animation\n",
    "ani = qplots.animation2D(sim, psi=\"norm\",\n",
    "                     potentialFunc='none', time=200, save=False)\n",
    "HTML(ani.to_html5_video())"
   ]
  },
  {
   "cell_type": "code",
   "execution_count": null,
   "metadata": {},
   "outputs": [],
   "source": [
    "sim.consistencyCheck()"
   ]
  },
  {
   "cell_type": "markdown",
   "metadata": {},
   "source": [
    "Note: If you would like to see the potential as well, then run the local files instead, there it is possible to view both overlaid on each other."
   ]
  },
  {
   "cell_type": "markdown",
   "metadata": {
    "collapsed": true
   },
   "source": [
    "### Rutherford Dispersion"
   ]
  },
  {
   "cell_type": "code",
   "execution_count": null,
   "metadata": {},
   "outputs": [],
   "source": [
    "# Define the system parameters and domain\n",
    "dim = 2\n",
    "numberPoints = 100\n",
    "dt = .001\n",
    "dirichletBC = False\n",
    "startPoint = [0, 0]\n",
    "domainLength = 2\n",
    "\n",
    "sign = -1\n",
    "if dirichletBC:\n",
    "    sign = 1\n",
    "allPoints = numberPoints + sign\n",
    "\n",
    "\n",
    "def dispersion(x, y):\n",
    "    '''1/r^2 Dispersive force around a defined center '''\n",
    "    center = [0.8, 1.]\n",
    "    r = np.linalg.norm([x - center[0], y - center[1]])\n",
    "    return 10./r**2\n",
    "\n",
    "\n",
    "def dispersionVis(x, y):\n",
    "    '''An exaggereted potential function to make it more visisble'''\n",
    "    center = [0.8, 1.]\n",
    "    r = np.linalg.norm([x - center[0], y - center[1]])\n",
    "    return 10./((r + 1)**2)\n",
    "\n",
    "\n",
    "# Create the simulation for the system\n",
    "sim = sm.Simulation(dim=dim, potentialFunc=dispersion,\n",
    "                    dirichletBC=dirichletBC, numberPoints=numberPoints,\n",
    "                    startPoint=startPoint, domainLength=domainLength,\n",
    "                    dt=dt)\n",
    "\n",
    "# Create the initial wave function\n",
    "sim.setPsiPulse(pulse=\"plane\", energy=500, vel=1, center=.1, width=.1)\n",
    "\n",
    "# System evolution and Animation\n",
    "ani = qplots.animation2D(sim, psi=\"norm\",\n",
    "                     potentialFunc='none', save=False, time=150)\n",
    "HTML(ani.to_html5_video())"
   ]
  },
  {
   "cell_type": "code",
   "execution_count": null,
   "metadata": {},
   "outputs": [],
   "source": [
    "sim.consistencyCheck()"
   ]
  },
  {
   "cell_type": "markdown",
   "metadata": {},
   "source": [
    "### Quantum Billiards"
   ]
  },
  {
   "cell_type": "code",
   "execution_count": null,
   "metadata": {},
   "outputs": [],
   "source": [
    "# Define the system parameters and domain\n",
    "dim = 2\n",
    "numberPoints = 100\n",
    "dt = .001\n",
    "dirichletBC = False\n",
    "startPoint = [0, 0]\n",
    "domainLength = 1\n",
    "\n",
    "\n",
    "def dispersion(x, y):\n",
    "    center = [0.5, 0.5]\n",
    "    r = np.linalg.norm([x - center[0], y - center[1]])\n",
    "    return 15./r**2\n",
    "\n",
    "\n",
    "def dispersionVis(x, y):\n",
    "    center = [0.5, 0.5]\n",
    "    r = np.linalg.norm([x - center[0], y - center[1]])\n",
    "    if r < .2:\n",
    "        return 5000\n",
    "    else:\n",
    "        return 0\n",
    "\n",
    "\n",
    "# Create the simulation for the system\n",
    "sim = sm.Simulation(dim=dim, potentialFunc=dispersionVis,\n",
    "                    dirichletBC=dirichletBC, numberPoints=numberPoints,\n",
    "                    startPoint=startPoint, domainLength=domainLength,\n",
    "                    dt=dt)\n",
    "\n",
    "# Create the initial wave function\n",
    "# Psi = np.zeros((numberPoints + sign)**2)\n",
    "#location = [np.random.choice(x, size = numPulses),\n",
    "#            np.random.choice(y.flatten(), size = numPulses)]\n",
    "# location = np.array([np.random.choice(x, size = numPulses),\n",
    "            # np.random.choice(y.flatten(), size = numPulses)])\n",
    "# location = np.swapaxes(location, 0, 1)\n",
    "vel = np.random.uniform(low=-1, high=1, size=(2, 1))\n",
    "\n",
    "# for i in range(numPulses):\n",
    "#     sim.setPsiPulse(energy=500, center=location[i], vel_x=vel[0, i],\n",
    "#                     vel_y=vel[1, i], width=.1)\n",
    "#     Psi = Psi + sim.psi\n",
    "\n",
    "# sim.psi = Psi\n",
    "sim.setPsiPulse(pulse=\"circular\", energy=500, center=[.2, .5], vel=[.4, .8],\n",
    "                width=.1)\n",
    "\n",
    "for i in range(30):\n",
    "    sim.evolve()\n",
    "\n",
    "# System evolution and Animation\n",
    "\n",
    "ani = qplots.animation2D(sim, psi=\"norm\", potentialFunc='none', save=False,\n",
    "                         time=150)\n",
    "HTML(ani.to_html5_video())"
   ]
  },
  {
   "cell_type": "code",
   "execution_count": null,
   "metadata": {},
   "outputs": [],
   "source": [
    "sim.consistencyCheck()"
   ]
  },
  {
   "cell_type": "code",
   "execution_count": null,
   "metadata": {
    "collapsed": true
   },
   "outputs": [],
   "source": []
  }
 ],
 "metadata": {
  "kernelspec": {
   "display_name": "Python 3",
   "language": "python",
   "name": "python3"
  },
  "language_info": {
   "codemirror_mode": {
    "name": "ipython",
    "version": 3
   },
   "file_extension": ".py",
   "mimetype": "text/x-python",
   "name": "python",
   "nbconvert_exporter": "python",
   "pygments_lexer": "ipython3",
   "version": "3.6.1"
  }
 },
 "nbformat": 4,
 "nbformat_minor": 2
}
