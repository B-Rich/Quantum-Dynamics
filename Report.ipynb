{
 "cells": [
  {
   "cell_type": "markdown",
   "metadata": {
    "collapsed": true
   },
   "source": [
    "# Project 3: Quantum Dynamics\n",
    "##    Eduardo Villaseñor - \n",
    "##    Eoin Horgan - 4582322\n",
    "\n",
    "### Description:\n",
    "A modelling of the time-dependent Schrödinger equation, taking m = 1, hbar = 1. "
   ]
  },
  {
   "cell_type": "code",
   "execution_count": 1,
   "metadata": {},
   "outputs": [
    {
     "data": {
      "text/latex": [
       "\\begin{equation}\n",
       "-i \\frac{\\partial\\psi}{\\partial t} = - \\frac{\\partial^2\\psi}{\\partial x^2} + V(x) \\psi\n",
       "= H \\psi\n",
       "\\end{equation}"
      ],
      "text/plain": [
       "<IPython.core.display.Latex object>"
      ]
     },
     "metadata": {},
     "output_type": "display_data"
    }
   ],
   "source": [
    "%%latex\n",
    "\\begin{equation}\n",
    "-i \\frac{\\partial\\psi}{\\partial t} = - \\frac{\\partial^2\\psi}{\\partial x^2} + V(x) \\psi\n",
    "= H \\psi\n",
    "\\end{equation}"
   ]
  },
  {
   "cell_type": "markdown",
   "metadata": {},
   "source": [
    "The time evolution of the wave function is found using the Crank-Nicolson method:"
   ]
  },
  {
   "cell_type": "code",
   "execution_count": 2,
   "metadata": {},
   "outputs": [
    {
     "data": {
      "text/latex": [
       "\\begin{equation}\n",
       "\\psi^{n+1} = \\frac{1-i\\Delta t H_D/2}{1+i\\Delta t H_D/2} \\psi^n\n",
       "\\end{equation}"
      ],
      "text/plain": [
       "<IPython.core.display.Latex object>"
      ]
     },
     "metadata": {},
     "output_type": "display_data"
    }
   ],
   "source": [
    "%%latex\n",
    "\\begin{equation}\n",
    "\\psi^{n+1} = \\frac{1-i\\Delta t H_D/2}{1+i\\Delta t H_D/2} \\psi^n\n",
    "\\end{equation}"
   ]
  },
  {
   "cell_type": "markdown",
   "metadata": {
    "collapsed": true
   },
   "source": [
    "### Prerequisites: Discrete Matrix Building and Plots\n",
    "\n",
    "Run the next block before moving onto the demonstrations, below."
   ]
  },
  {
   "cell_type": "code",
   "execution_count": null,
   "metadata": {
    "collapsed": true
   },
   "outputs": [],
   "source": []
  }
 ],
 "metadata": {
  "kernelspec": {
   "display_name": "Python 3",
   "language": "python",
   "name": "python3"
  },
  "language_info": {
   "codemirror_mode": {
    "name": "ipython",
    "version": 3
   },
   "file_extension": ".py",
   "mimetype": "text/x-python",
   "name": "python",
   "nbconvert_exporter": "python",
   "pygments_lexer": "ipython3",
   "version": "3.6.1"
  }
 },
 "nbformat": 4,
 "nbformat_minor": 2
}
